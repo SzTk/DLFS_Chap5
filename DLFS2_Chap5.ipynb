{
  "nbformat": 4,
  "nbformat_minor": 0,
  "metadata": {
    "colab": {
      "name": "DLFS2_Chap5.ipynb",
      "version": "0.3.2",
      "provenance": [],
      "collapsed_sections": [],
      "include_colab_link": true
    },
    "kernelspec": {
      "name": "python3",
      "display_name": "Python 3"
    }
  },
  "cells": [
    {
      "cell_type": "markdown",
      "metadata": {
        "id": "view-in-github",
        "colab_type": "text"
      },
      "source": [
        "<a href=\"https://colab.research.google.com/github/SzTk/DLFS_Chap5/blob/master/DLFS2_Chap5.ipynb\" target=\"_parent\"><img src=\"https://colab.research.google.com/assets/colab-badge.svg\" alt=\"Open In Colab\"/></a>"
      ]
    },
    {
      "metadata": {
        "id": "9TD8DPOF9Ep1",
        "colab_type": "text"
      },
      "cell_type": "markdown",
      "source": [
        "## ５章　リカレントニューラルネット（RNN)\n",
        "前章でおこなった、word2vecのCBOWモデルについて、\n",
        "応用を考える。\n",
        "一つとして、”言語モデル”がある。\n",
        "\n",
        "### 言語モデル\n",
        "言語モデルとは単語のならびに対してそれがどれだけ起こりそうか、確率を与える。\n",
        "例えば、\n",
        "\"You say goodbye\"には高い確率（例えば0.092)を与え、\n",
        "\"you say good die\"には低い確率（例えば0.0000000000032)を出力するようなモデル。\n",
        "\n",
        "このようなモデルは、例えば音声認識に応用できる。\n",
        "音声を聞き取った結果にいくつかの候補があった場合、最も確率も高いものを採用するといった。\n",
        "\n",
        "また、文章の生成（サンプリング）もできる。\n",
        "\n",
        "\n",
        "m語からなる文章を考える。各単語を$w_1, \\cdots ,w_m$とする。\n",
        "確率は同時確率として\n",
        "$$\n",
        "P(w_1,\\cdots ,w_m)\n",
        "$$\n",
        "と書けるが、用いて分解でき、\n",
        "$$\n",
        "P(w_1, \\cdots ,w_m) = P(w_m|w_1,\\cdots , w_{m-1})P(w_{m-1}|w_1,\\cdots ,w_{m-2})\\cdots P(w_2|w_1)p(w_1)\n",
        "$$\n",
        "つまり、\n",
        "\n",
        "最初の一語の確率＊（最初の一語の次に第二語が来る確率）＊（最初の二単語の次に、第三語が来る確率）＊ ・・・\n",
        "\n",
        "と書くことができる。\n",
        "\n",
        "乗法定理$P(A,B)=P(A|B)P(B)$を使っているとこの本には書いてあるが、あんまりこれを定理とは言わないような気がする。\n",
        "条件付き確率の定義では？\n",
        "ともかく、\n",
        "$$\n",
        "P(w_1, \\cdots ,w_m) = \\prod_{t=1}^m P(w_t|w_1,\\cdots ,p_{t-1})\n",
        "$$\n",
        "\n",
        "がえられた。\n"
      ]
    },
    {
      "metadata": {
        "id": "bZo-cjiZF5wO",
        "colab_type": "code",
        "outputId": "41f3e037-a4a3-4c68-8f08-0b60d8e98077",
        "colab": {
          "base_uri": "https://localhost:8080/",
          "height": 34
        }
      },
      "cell_type": "code",
      "source": [
        "from google.colab import drive\n",
        "drive.mount('/content/drive')"
      ],
      "execution_count": 0,
      "outputs": [
        {
          "output_type": "stream",
          "text": [
            "Drive already mounted at /content/drive; to attempt to forcibly remount, call drive.mount(\"/content/drive\", force_remount=True).\n"
          ],
          "name": "stdout"
        }
      ]
    },
    {
      "metadata": {
        "id": "ohVStwxZF69a",
        "colab_type": "code",
        "colab": {}
      },
      "cell_type": "code",
      "source": [
        "import IPython.display\n",
        "IPython.display.display_pdf(Image('l/content/drive/My\\ Drive/DLFS_Chap5_fig1.pdf'))"
      ],
      "execution_count": 0,
      "outputs": []
    },
    {
      "metadata": {
        "id": "6pEmIp-THAo0",
        "colab_type": "code",
        "colab": {}
      },
      "cell_type": "code",
      "source": [
        ""
      ],
      "execution_count": 0,
      "outputs": []
    }
  ]
}